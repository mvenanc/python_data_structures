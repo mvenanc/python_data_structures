{
 "cells": [
  {
   "cell_type": "markdown",
   "metadata": {},
   "source": [
    "# String Permutation"
   ]
  },
  {
   "cell_type": "code",
   "execution_count": 10,
   "metadata": {},
   "outputs": [],
   "source": [
    "def permute(s):\n",
    "    \n",
    "    out = []\n",
    "\n",
    "    #print(s)  \n",
    "    \n",
    "    #stop criteria\n",
    "    if len(s) == 1:\n",
    "        out = [s]\n",
    "                    \n",
    "    else:\n",
    "        #for every letter in string\n",
    "        for i, let in enumerate(s):\n",
    "            #print('i :'+ str(i))\n",
    "            #print('let: '+let)\n",
    "            \n",
    "            #for every permutation resultng from step 2 and 3\n",
    "            \n",
    "            for perm in permute(s[:i] + s[i+1:]):\n",
    "                print('perm is: '+perm)\n",
    "                #Add it to the output\n",
    "                out += [let + perm]\n",
    "                \n",
    "    return out"
   ]
  },
  {
   "cell_type": "code",
   "execution_count": 11,
   "metadata": {},
   "outputs": [
    {
     "name": "stdout",
     "output_type": "stream",
     "text": [
      "perm is: c\n",
      "perm is: b\n",
      "perm is: bc\n",
      "perm is: cb\n",
      "perm is: c\n",
      "perm is: a\n",
      "perm is: ac\n",
      "perm is: ca\n",
      "perm is: b\n",
      "perm is: a\n",
      "perm is: ab\n",
      "perm is: ba\n",
      "['abc', 'acb', 'bac', 'bca', 'cab', 'cba']\n"
     ]
    }
   ],
   "source": [
    "print(permute('abc'))"
   ]
  },
  {
   "cell_type": "code",
   "execution_count": 12,
   "metadata": {},
   "outputs": [
    {
     "name": "stdout",
     "output_type": "stream",
     "text": [
      "perm is: 3\n",
      "perm is: 2\n",
      "perm is: 23\n",
      "perm is: 32\n",
      "perm is: 3\n",
      "perm is: 1\n",
      "perm is: 13\n",
      "perm is: 31\n",
      "perm is: 2\n",
      "perm is: 1\n",
      "perm is: 12\n",
      "perm is: 21\n",
      "['123', '132', '213', '231', '312', '321']\n"
     ]
    }
   ],
   "source": [
    "print(permute('123'))"
   ]
  },
  {
   "cell_type": "code",
   "execution_count": null,
   "metadata": {},
   "outputs": [],
   "source": []
  }
 ],
 "metadata": {
  "kernelspec": {
   "display_name": "Python 3",
   "language": "python",
   "name": "python3"
  },
  "language_info": {
   "codemirror_mode": {
    "name": "ipython",
    "version": 3
   },
   "file_extension": ".py",
   "mimetype": "text/x-python",
   "name": "python",
   "nbconvert_exporter": "python",
   "pygments_lexer": "ipython3",
   "version": "3.6.3"
  }
 },
 "nbformat": 4,
 "nbformat_minor": 2
}
