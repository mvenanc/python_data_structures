{
 "cells": [
  {
   "cell_type": "markdown",
   "metadata": {},
   "source": [
    "# Coin Change Problem\n",
    "\n",
    "## this will rise up Recursion problems and then Memoization and Dynamic Programming may be used to overcome these problems"
   ]
  },
  {
   "cell_type": "markdown",
   "metadata": {},
   "source": [
    "> ## Classic Recursion Solution"
   ]
  },
  {
   "cell_type": "code",
   "execution_count": 5,
   "metadata": {},
   "outputs": [],
   "source": [
    "def rec_coin(target, coins):\n",
    "    \n",
    "    #Default value set to target\n",
    "    min_coins = target \n",
    "    \n",
    "    #Checks if to see if the target is in coin values list\n",
    "    if target in coins:\n",
    "        return 1\n",
    "    \n",
    "    \n",
    "    else:\n",
    "        \n",
    "        # for  every coin value that is  <= my target\n",
    "        for i in [c for c in coins if c<= target]:\n",
    "            \n",
    "            # Add a coin count + recursive\n",
    "            num_coins = 1 + rec_coin(target-i,coins)\n",
    "            \n",
    "            if num_coins < min_coins:\n",
    "                \n",
    "                min_coins = num_coins\n",
    "                \n",
    "        \n",
    "    \n",
    "    return min_coins"
   ]
  },
  {
   "cell_type": "markdown",
   "metadata": {},
   "source": [
    "# Bad Implementation"
   ]
  },
  {
   "cell_type": "code",
   "execution_count": null,
   "metadata": {},
   "outputs": [],
   "source": [
    "rec_recoin(100, [10,5,1])"
   ]
  },
  {
   "cell_type": "markdown",
   "metadata": {},
   "source": [
    "# Now solving with Dynamic Programming with Memoization"
   ]
  },
  {
   "cell_type": "code",
   "execution_count": 9,
   "metadata": {},
   "outputs": [],
   "source": [
    "def rec_coin_dynam_memo(target, coins, known_result):\n",
    "    \n",
    "    #Default out to target\n",
    "    min_coins = target\n",
    "    \n",
    "    #Base case\n",
    "    if target in coins:\n",
    "        known_result[target] = 1\n",
    "        return 1\n",
    "    \n",
    "    #return a known result if it happens to be greater than 1\n",
    "    elif known_results[target] > 0:\n",
    "        return known_result[target]\n",
    "    else:\n",
    "        \n",
    "        #for every coin value thhat is <= target\n",
    "        for i in [c for c in coins if c<=target]:\n",
    "            num_coins = 1 + rec_coin_dynam_memo(target-i ,coins, known_results)\n",
    "            \n",
    "            if num_coins < min_coins:\n",
    "                min_coins = num_coins\n",
    "                \n",
    "                #reset that known result\n",
    "                known_result[target] = min_coins\n",
    "       \n",
    "    return min_coins             \n"
   ]
  },
  {
   "cell_type": "code",
   "execution_count": 11,
   "metadata": {},
   "outputs": [
    {
     "data": {
      "text/plain": [
       "10"
      ]
     },
     "execution_count": 11,
     "metadata": {},
     "output_type": "execute_result"
    }
   ],
   "source": [
    "target = 100\n",
    "coins = [1,5,10]\n",
    "known_results = [0]*(target+1)\n",
    "rec_coin_dynam_memo(target, coins, known_results)"
   ]
  },
  {
   "cell_type": "code",
   "execution_count": null,
   "metadata": {},
   "outputs": [],
   "source": []
  },
  {
   "cell_type": "code",
   "execution_count": null,
   "metadata": {},
   "outputs": [],
   "source": []
  },
  {
   "cell_type": "code",
   "execution_count": null,
   "metadata": {},
   "outputs": [],
   "source": []
  },
  {
   "cell_type": "code",
   "execution_count": null,
   "metadata": {},
   "outputs": [],
   "source": []
  },
  {
   "cell_type": "code",
   "execution_count": null,
   "metadata": {},
   "outputs": [],
   "source": []
  },
  {
   "cell_type": "code",
   "execution_count": null,
   "metadata": {},
   "outputs": [],
   "source": []
  },
  {
   "cell_type": "code",
   "execution_count": null,
   "metadata": {},
   "outputs": [],
   "source": []
  },
  {
   "cell_type": "code",
   "execution_count": null,
   "metadata": {},
   "outputs": [],
   "source": []
  }
 ],
 "metadata": {
  "kernelspec": {
   "display_name": "Python 3",
   "language": "python",
   "name": "python3"
  },
  "language_info": {
   "codemirror_mode": {
    "name": "ipython",
    "version": 3
   },
   "file_extension": ".py",
   "mimetype": "text/x-python",
   "name": "python",
   "nbconvert_exporter": "python",
   "pygments_lexer": "ipython3",
   "version": "3.6.3"
  }
 },
 "nbformat": 4,
 "nbformat_minor": 2
}
