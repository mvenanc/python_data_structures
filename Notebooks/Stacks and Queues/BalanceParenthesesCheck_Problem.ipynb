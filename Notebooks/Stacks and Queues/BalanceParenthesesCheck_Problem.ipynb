{
 "cells": [
  {
   "cell_type": "markdown",
   "metadata": {},
   "source": [
    "# This problem is to balance the [] {} () in a string... \n",
    "> ### For instance.. this is unbalanced ([}])\n",
    "> ### this is balanced ... ({[{[]}]})"
   ]
  },
  {
   "cell_type": "code",
   "execution_count": 58,
   "metadata": {},
   "outputs": [],
   "source": [
    "def balance_check(s):\n",
    "    \n",
    "    #the first thing to check is if the amount of elements is balanced.. otherwise the parentheses arent.\n",
    "    \n",
    "    if len(s)%2 != 0:\n",
    "        return False\n",
    "    \n",
    "    opening = set('([{') # set() in python means that a collection of objects is going to be created.\n",
    "    \n",
    "    #matches = set([('(',')'), ('[',']'), ('{','}') ])\n",
    "    matches = ['()', '{}', '[]']\n",
    "    \n",
    "    stack = []\n",
    "    \n",
    "    for paren in s: # scanning the string from left to right \n",
    "        if paren in opening:\n",
    "            stack.append(paren) #look for oppening paren. in the string. put on stack all the opening parenth... \n",
    "                                \n",
    "            \n",
    "        else: #when the element is not opening parenth then the next element should be the corresponding close param\n",
    "            if len(stack) ==0: # which means that the string doesnt even initiate with opening parentheses\n",
    "                return False\n",
    "            \n",
    "            last_open = stack.pop()\n",
    "            \n",
    "            #if(last_open,paren) not in matches:\n",
    "            if last_open + paren not in matches:\n",
    "                return False\n",
    "            \n",
    "    return len(stack) == 0"
   ]
  },
  {
   "cell_type": "code",
   "execution_count": 59,
   "metadata": {},
   "outputs": [
    {
     "data": {
      "text/plain": [
       "True"
      ]
     },
     "execution_count": 59,
     "metadata": {},
     "output_type": "execute_result"
    }
   ],
   "source": [
    "balance_check('[]')"
   ]
  },
  {
   "cell_type": "markdown",
   "metadata": {},
   "source": [
    "### Tests"
   ]
  },
  {
   "cell_type": "code",
   "execution_count": 60,
   "metadata": {},
   "outputs": [
    {
     "name": "stdout",
     "output_type": "stream",
     "text": [
      "All unit test passed \n"
     ]
    }
   ],
   "source": [
    "\"\"\"\n",
    "Tests\n",
    "\"\"\"\n",
    "\n",
    "from nose.tools import assert_equal\n",
    "\n",
    "class TestBalanceCheck(object):\n",
    "    \n",
    "    def test(self, sol):\n",
    "        assert_equal(sol('()(){]}'), False)\n",
    "        assert_equal(sol('[](){([[[]]])}'), True)\n",
    "        assert_equal(sol('{}'), True)\n",
    "        print('All unit test passed ')\n",
    "\n",
    "        \n",
    "#Running\n",
    "t = TestBalanceCheck()\n",
    "t.test(balance_check)"
   ]
  },
  {
   "cell_type": "code",
   "execution_count": 4,
   "metadata": {},
   "outputs": [],
   "source": []
  },
  {
   "cell_type": "code",
   "execution_count": null,
   "metadata": {},
   "outputs": [],
   "source": []
  }
 ],
 "metadata": {
  "kernelspec": {
   "display_name": "Python 3",
   "language": "python",
   "name": "python3"
  },
  "language_info": {
   "codemirror_mode": {
    "name": "ipython",
    "version": 3
   },
   "file_extension": ".py",
   "mimetype": "text/x-python",
   "name": "python",
   "nbconvert_exporter": "python",
   "pygments_lexer": "ipython3",
   "version": "3.6.3"
  }
 },
 "nbformat": 4,
 "nbformat_minor": 2
}
