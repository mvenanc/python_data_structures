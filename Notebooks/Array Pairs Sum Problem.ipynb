{
 "cells": [
  {
   "cell_type": "markdown",
   "metadata": {},
   "source": [
    "# Array Pairs Sum Problem"
   ]
  },
  {
   "cell_type": "code",
   "execution_count": 6,
   "metadata": {},
   "outputs": [],
   "source": [
    "def pair_sum(arr, k):\n",
    "    if len(arr)<2:\n",
    "        return\n",
    "    \n",
    "    # sets for tracking\n",
    "    seen = set()\n",
    "    output = set()\n",
    "    \n",
    "    for num in arr:\n",
    "        target = k-num\n",
    "        \n",
    "        if target not in seen:\n",
    "            seen.add(num)\n",
    "        else:            \n",
    "            output.add((( min(num, target)), max(num, target)))\n",
    "            \n",
    "    #return len(output)\n",
    "    print('\\n'.join(map(str,list(output))))            "
   ]
  },
  {
   "cell_type": "code",
   "execution_count": 7,
   "metadata": {},
   "outputs": [
    {
     "name": "stdout",
     "output_type": "stream",
     "text": [
      "(1, 3)\n",
      "(2, 2)\n"
     ]
    }
   ],
   "source": [
    "pair_sum([1,3,2,2],4)"
   ]
  },
  {
   "cell_type": "code",
   "execution_count": 10,
   "metadata": {},
   "outputs": [
    {
     "name": "stdout",
     "output_type": "stream",
     "text": [
      "(1, 5)\n",
      "(-1, 7)\n"
     ]
    }
   ],
   "source": [
    "pair_sum([1, 5, 7, -1],6)"
   ]
  },
  {
   "cell_type": "code",
   "execution_count": 12,
   "metadata": {},
   "outputs": [
    {
     "name": "stdout",
     "output_type": "stream",
     "text": [
      "(5, 6)\n",
      "(-1, 12)\n",
      "(4, 7)\n",
      "(1, 10)\n"
     ]
    }
   ],
   "source": [
    "pair_sum([10, 12, 10, 15, -1, 7, 6, 5, 4, 2, 1, 1, 1], 11)"
   ]
  },
  {
   "cell_type": "code",
   "execution_count": 13,
   "metadata": {},
   "outputs": [
    {
     "name": "stdout",
     "output_type": "stream",
     "text": [
      "(1, 5)\n",
      "(-1, 7)\n"
     ]
    }
   ],
   "source": [
    "pair_sum([1, 5, 7, -1, 5],6)"
   ]
  },
  {
   "cell_type": "markdown",
   "metadata": {},
   "source": [
    "# O(n) Solution from  GeeksForGeeks\n",
    "\n",
    "https://www.geeksforgeeks.org/count-pairs-with-given-sum/"
   ]
  },
  {
   "cell_type": "code",
   "execution_count": 14,
   "metadata": {},
   "outputs": [],
   "source": [
    "# Returns number of pairs in arr[0..n-1] \n",
    "# with sum equal to 'sum'\n",
    "def getPairsCount(arr, n, sum):\n",
    "     \n",
    "    m = [0] * 1000\n",
    "     \n",
    "    # Store counts of all elements in map m\n",
    "    for i in range(0, n):\n",
    "        m[arr[i]]\n",
    "        m[arr[i]] += 1\n",
    " \n",
    "    twice_count = 0\n",
    " \n",
    "    # Iterate through each element and increment\n",
    "    # the count (Notice that every pair is \n",
    "    # counted twice)\n",
    "    for i in range(0, n):\n",
    "     \n",
    "        twice_count += m[sum - arr[i]] \n",
    " \n",
    "        # if (arr[i], arr[i]) pair satisfies the\n",
    "        # condition, then we need to ensure that\n",
    "        # the count is  decreased by one such \n",
    "        # that the (arr[i], arr[i]) pair is not\n",
    "        # considered\n",
    "        if (sum - arr[i] == arr[i]):\n",
    "            twice_count -= 1\n",
    "     \n",
    "    # return the half of twice_count\n",
    "    return int(twice_count / 2) "
   ]
  },
  {
   "cell_type": "code",
   "execution_count": 15,
   "metadata": {},
   "outputs": [
    {
     "data": {
      "text/plain": [
       "3"
      ]
     },
     "execution_count": 15,
     "metadata": {},
     "output_type": "execute_result"
    }
   ],
   "source": [
    "arr = [1, 5, 7, -1, 5]\n",
    "n = len(arr)\n",
    "sum_ = 6\n",
    "\n",
    "getPairsCount(arr,n, sum_)"
   ]
  },
  {
   "cell_type": "code",
   "execution_count": null,
   "metadata": {},
   "outputs": [],
   "source": []
  }
 ],
 "metadata": {
  "kernelspec": {
   "display_name": "Python 3",
   "language": "python",
   "name": "python3"
  },
  "language_info": {
   "codemirror_mode": {
    "name": "ipython",
    "version": 3
   },
   "file_extension": ".py",
   "mimetype": "text/x-python",
   "name": "python",
   "nbconvert_exporter": "python",
   "pygments_lexer": "ipython3",
   "version": "3.6.3"
  }
 },
 "nbformat": 4,
 "nbformat_minor": 2
}
