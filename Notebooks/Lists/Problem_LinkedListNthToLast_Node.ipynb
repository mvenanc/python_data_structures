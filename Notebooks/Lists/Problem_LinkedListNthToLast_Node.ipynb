{
 "cells": [
  {
   "cell_type": "markdown",
   "metadata": {},
   "source": [
    "# Linked List Nth to Last Node"
   ]
  },
  {
   "cell_type": "code",
   "execution_count": 4,
   "metadata": {},
   "outputs": [],
   "source": [
    "class Node(object):\n",
    "    \n",
    "    def __init__(self, value):\n",
    "        self.value = value\n",
    "        self.nextnode = None"
   ]
  },
  {
   "cell_type": "code",
   "execution_count": 6,
   "metadata": {},
   "outputs": [],
   "source": [
    "a = Node(1)\n",
    "b = Node(2)\n",
    "c = Node(3)\n",
    "d = Node(4)\n",
    "e = Node(5)\n",
    "\n",
    "a.nextnode=b\n",
    "b.nextnode=c\n",
    "c.nextnode=d\n",
    "d.nextnode=c\n",
    "           "
   ]
  },
  {
   "cell_type": "code",
   "execution_count": null,
   "metadata": {},
   "outputs": [],
   "source": [
    "def nth_to_last_node(n,head):\n",
    "    left_pointer = head\n",
    "    right_pointer = head\n",
    "    \n",
    "    \n",
    "    '''\n",
    "    this statement below is just to check the length of linked list.. \n",
    "    and see if it has enough length to get the value asked\n",
    "    '''\n",
    "    for i in range(n-1):\n",
    "        if not right_pointer.nextnode:\n",
    "            raise LookupError('Error n is larger than the linked list')\n",
    "        \n",
    "        right_pointer = right_pointer.nextnode\n",
    "    \n",
    "    \n",
    "    #This implementation is very smart ... it uses two pointers...\n",
    "    #the trick here is to set the first pointer right in the position of <n> from left to right position.. \n",
    "    # after that .. it is initiated a second pointer from the beginning and runs together with \n",
    "    # the first pointer until the first pointer gets the end. then, the second pointer \n",
    "    # position stores the value of the nth element.\n",
    "    while right_pointer.nextnode:\n",
    "        left_pointer = left_pointer.nextnode\n",
    "        right_opointer = right_pointer.nextnode\n",
    "        \n",
    "    return left_pointer\n",
    "        "
   ]
  },
  {
   "cell_type": "code",
   "execution_count": null,
   "metadata": {},
   "outputs": [],
   "source": [
    "target = nth_to_last_node(2,a)"
   ]
  }
 ],
 "metadata": {
  "kernelspec": {
   "display_name": "Python 3",
   "language": "python",
   "name": "python3"
  },
  "language_info": {
   "codemirror_mode": {
    "name": "ipython",
    "version": 3
   },
   "file_extension": ".py",
   "mimetype": "text/x-python",
   "name": "python",
   "nbconvert_exporter": "python",
   "pygments_lexer": "ipython3",
   "version": "3.6.3"
  }
 },
 "nbformat": 4,
 "nbformat_minor": 2
}
