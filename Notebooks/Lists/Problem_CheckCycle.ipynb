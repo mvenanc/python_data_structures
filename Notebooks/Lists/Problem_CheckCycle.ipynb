{
 "cells": [
  {
   "cell_type": "markdown",
   "metadata": {},
   "source": [
    "# Check List Cycle Problem"
   ]
  },
  {
   "cell_type": "code",
   "execution_count": 3,
   "metadata": {},
   "outputs": [],
   "source": [
    "class Node(object):\n",
    "    def __init__(self, value):\n",
    "        self.value = value\n",
    "        self.next_node = None"
   ]
  },
  {
   "cell_type": "code",
   "execution_count": 15,
   "metadata": {},
   "outputs": [],
   "source": [
    "a = Node(1)\n",
    "b = Node(2)\n",
    "c = Node(3)\n",
    "d = Node(4)\n",
    "e = Node(5)\n",
    "f = Node(6)"
   ]
  },
  {
   "cell_type": "code",
   "execution_count": 22,
   "metadata": {},
   "outputs": [],
   "source": [
    "a.next_node = b\n",
    "b.next_node = c\n",
    "c.next_node = d\n",
    "d.next_node = a\n"
   ]
  },
  {
   "cell_type": "code",
   "execution_count": 17,
   "metadata": {},
   "outputs": [
    {
     "data": {
      "text/plain": [
       "2"
      ]
     },
     "execution_count": 17,
     "metadata": {},
     "output_type": "execute_result"
    }
   ],
   "source": [
    "a.next_node.value"
   ]
  },
  {
   "cell_type": "raw",
   "metadata": {},
   "source": [
    "# this approach is not good compared to next one.\n",
    "\n",
    "mem = []\n",
    "n = a\n",
    "while n:\n",
    "    if id(n) in mem:\n",
    "        print(mem)\n",
    "        raise ValueError('A very specific bad thing happened.')\n",
    "    mem.append(id(n))\n",
    "    print(n.value)\n",
    "    n = n.next_node"
   ]
  },
  {
   "cell_type": "code",
   "execution_count": 23,
   "metadata": {},
   "outputs": [],
   "source": [
    "\"\"\"\n",
    "This solution below is very creative\n",
    "\n",
    "There are two runners (runner 1 e 2). the first go through the way by 1 by 1 node.\n",
    "while the second runner runs by 2 by 2 nodes. \n",
    "If in some moment the runner 2 becomes equal to runner1 means that there is a circular\n",
    "link in the list.\n",
    "\"\"\"\n",
    "\n",
    "def check_cycle(node):\n",
    "    runner1 = node\n",
    "    runner2 = node\n",
    "    \n",
    "    while track2 != None and track2.next_node != None:\n",
    "        track1 = track1.next_node\n",
    "        track2 = track2.next_node.next_node\n",
    "        \n",
    "        if track2 == track1:\n",
    "            return True\n",
    "    else :\n",
    "        return False"
   ]
  },
  {
   "cell_type": "code",
   "execution_count": 24,
   "metadata": {},
   "outputs": [
    {
     "data": {
      "text/plain": [
       "True"
      ]
     },
     "execution_count": 24,
     "metadata": {},
     "output_type": "execute_result"
    }
   ],
   "source": [
    "check_cycle(a)"
   ]
  },
  {
   "cell_type": "code",
   "execution_count": null,
   "metadata": {},
   "outputs": [],
   "source": []
  }
 ],
 "metadata": {
  "kernelspec": {
   "display_name": "Python 3",
   "language": "python",
   "name": "python3"
  },
  "language_info": {
   "codemirror_mode": {
    "name": "ipython",
    "version": 3
   },
   "file_extension": ".py",
   "mimetype": "text/x-python",
   "name": "python",
   "nbconvert_exporter": "python",
   "pygments_lexer": "ipython3",
   "version": "3.6.3"
  }
 },
 "nbformat": 4,
 "nbformat_minor": 2
}
