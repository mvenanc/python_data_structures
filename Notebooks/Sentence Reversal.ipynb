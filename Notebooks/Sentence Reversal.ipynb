{
 "cells": [
  {
   "cell_type": "markdown",
   "metadata": {},
   "source": [
    "# Sentence Reversal Problem"
   ]
  },
  {
   "cell_type": "code",
   "execution_count": 4,
   "metadata": {},
   "outputs": [],
   "source": [
    "def rev_word(s):\n",
    "    words = []\n",
    "    length = len(s)\n",
    "    spaces = [' ']\n",
    "    i = 0\n",
    "    \n",
    "    while i < length:\n",
    "        \n",
    "        \"\"\"\n",
    "        The algorithm below do the follow:\n",
    "            1 - get the first index of a word.. which is not a space and store it\n",
    "            in word_start\n",
    "            \n",
    "            2 - iterate through the string until hit a space and get this index and\n",
    "            stores it in <i>\n",
    "            \n",
    "            with the start and end point of a string then the algorithm just catch\n",
    "            the the word from a start index to end index and append the word inside \n",
    "            the array words.\n",
    "        \"\"\"\n",
    "        if s[i] not in spaces:\n",
    "            word_start = i\n",
    "            while i < length and s[i] not in spaces:\n",
    "                i +=1\n",
    "            \n",
    "            words.append(s[word_start:i])\n",
    "        \n",
    "        i += 1\n",
    "    return \" \".join(reversed(words))"
   ]
  },
  {
   "cell_type": "code",
   "execution_count": 5,
   "metadata": {},
   "outputs": [
    {
     "data": {
      "text/plain": [
       "'you are how John Hello'"
      ]
     },
     "execution_count": 5,
     "metadata": {},
     "output_type": "execute_result"
    }
   ],
   "source": [
    "rev_word('   Hello John     how are you   ')"
   ]
  },
  {
   "cell_type": "code",
   "execution_count": 6,
   "metadata": {},
   "outputs": [
    {
     "data": {
      "text/plain": [
       "'before space'"
      ]
     },
     "execution_count": 6,
     "metadata": {},
     "output_type": "execute_result"
    }
   ],
   "source": [
    "rev_word('space before')"
   ]
  },
  {
   "cell_type": "code",
   "execution_count": null,
   "metadata": {},
   "outputs": [],
   "source": []
  }
 ],
 "metadata": {
  "kernelspec": {
   "display_name": "Python 3",
   "language": "python",
   "name": "python3"
  },
  "language_info": {
   "codemirror_mode": {
    "name": "ipython",
    "version": 3
   },
   "file_extension": ".py",
   "mimetype": "text/x-python",
   "name": "python",
   "nbconvert_exporter": "python",
   "pygments_lexer": "ipython3",
   "version": "3.6.3"
  }
 },
 "nbformat": 4,
 "nbformat_minor": 2
}
