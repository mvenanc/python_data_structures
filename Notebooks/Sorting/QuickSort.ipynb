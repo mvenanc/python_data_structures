{
 "cells": [
  {
   "cell_type": "markdown",
   "metadata": {},
   "source": [
    "# Quick Sort\n",
    "## Same approach than Merge Sort.. which means using divide and conquer to sort an array. The difference is that the list may not be divided in a half....\n",
    "## To split the array is chosen a PIVOT VALUE which is to assist with spliting the list"
   ]
  },
  {
   "cell_type": "raw",
   "metadata": {},
   "source": [
    "\"\"\"\n",
    "https://visualgo.net/en/sorting\n",
    "check the quick sort pseudo code.\n",
    "\"\"\"\n",
    "    \n",
    "for each (unsorted) partition\n",
    "\n",
    "set first element as pivot\n",
    "\n",
    "  storeIndex = pivotIndex + 1\n",
    "\n",
    "  for i = pivotIndex + 1 to rightmostIndex\n",
    "\n",
    "    if element[i] < element[pivot]\n",
    "\n",
    "      swap(i, storeIndex); storeIndex++\n",
    "\n",
    "  swap(pivot, storeIndex - 1)\n"
   ]
  },
  {
   "cell_type": "code",
   "execution_count": 9,
   "metadata": {},
   "outputs": [],
   "source": [
    "def quick_sort(arr):\n",
    "    quick_sort_help(arr, 0 , len(arr) - 1)\n",
    "\n",
    "def quick_sort_help(arr, first, last):\n",
    "    \n",
    "    if first < last :\n",
    "        splitpoint = partition(arr, first, last)\n",
    "        \n",
    "        \"\"\"\n",
    "        this part looks like merge sort.. \n",
    "        taking left and right parts of the array\n",
    "        \"\"\"\n",
    "        quick_sort_help(arr, first, splitpoint - 1)\n",
    "        quick_sort_help(arr, splitpoint + 1, last)          \n",
    "\n",
    "def partition(arr, first, last):\n",
    "    \"\"\"\n",
    "    There are several manners to choose a pivot value.. \n",
    "    but for our algorithm we will just select the first element... \n",
    "    \"\"\"\n",
    "    \n",
    "    #the first thing to do in a quick sort algo. is to select a pivot value\n",
    "    pivotvalue = arr[first]\n",
    "    \n",
    "    #left and right partition markers\n",
    "    leftmark = first + 1\n",
    "    rightmark = last\n",
    "    \n",
    "    done = False\n",
    "    \n",
    "    while not done:\n",
    "        while leftmark <= rightmark and arr[leftmark] <= pivotvalue:\n",
    "            leftmark += 1\n",
    "        \n",
    "        while arr[rightmark] >= pivotvalue and rightmark >= leftmark:\n",
    "            rightmark -= 1\n",
    "            \n",
    "        if rightmark < leftmark:\n",
    "            done = True\n",
    "            \n",
    "        else:\n",
    "            \"\"\"\n",
    "            Switching the values\n",
    "            \"\"\"\n",
    "            temp = arr[leftmark]\n",
    "            arr[leftmark] = arr[rightmark]\n",
    "            arr[rightmark] = temp\n",
    "            \n",
    "    temp = arr[first]\n",
    "    arr[first] = arr[rightmark]\n",
    "    arr[rightmark] = temp\n",
    "    \n",
    "    return rightmark\n",
    "    \n",
    "    "
   ]
  },
  {
   "cell_type": "code",
   "execution_count": 10,
   "metadata": {},
   "outputs": [],
   "source": [
    "arr = [2,41,50,9,8,4,1,5,6,2,3,7]"
   ]
  },
  {
   "cell_type": "code",
   "execution_count": 11,
   "metadata": {},
   "outputs": [],
   "source": [
    "quick_sort(arr)"
   ]
  },
  {
   "cell_type": "code",
   "execution_count": 12,
   "metadata": {},
   "outputs": [
    {
     "data": {
      "text/plain": [
       "[1, 2, 2, 3, 4, 5, 6, 7, 8, 9, 41, 50]"
      ]
     },
     "execution_count": 12,
     "metadata": {},
     "output_type": "execute_result"
    }
   ],
   "source": [
    "arr"
   ]
  },
  {
   "cell_type": "code",
   "execution_count": null,
   "metadata": {},
   "outputs": [],
   "source": []
  }
 ],
 "metadata": {
  "kernelspec": {
   "display_name": "Python 3",
   "language": "python",
   "name": "python3"
  },
  "language_info": {
   "codemirror_mode": {
    "name": "ipython",
    "version": 3
   },
   "file_extension": ".py",
   "mimetype": "text/x-python",
   "name": "python",
   "nbconvert_exporter": "python",
   "pygments_lexer": "ipython3",
   "version": "3.6.3"
  }
 },
 "nbformat": 4,
 "nbformat_minor": 2
}
