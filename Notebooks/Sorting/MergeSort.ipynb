{
 "cells": [
  {
   "cell_type": "markdown",
   "metadata": {},
   "source": [
    "# Merge Sort\n",
    "\n",
    "## Recursive sort that splits the array in several minor arrays and sort these minor arrays\n"
   ]
  },
  {
   "cell_type": "code",
   "execution_count": 34,
   "metadata": {},
   "outputs": [],
   "source": [
    "def merge_sort(arr):\n",
    "    \n",
    "    \"\"\"\n",
    "    the base case is the arr has a lenght greater than 1\n",
    "    this criteria will stop the recursion when the hit the barrier\n",
    "        \n",
    "    \"\"\"\n",
    "    \n",
    "    if len(arr)>1:\n",
    "        \n",
    "        \"\"\"\n",
    "        The first step is to split, calculate the mid range and split it\n",
    "        into left and right slices.\n",
    "        \"\"\"\n",
    "        mid = len(arr)//2\n",
    "        \n",
    "        \"\"\"\n",
    "        call again the merge sort, recursivelly, util split it at the maximum\n",
    "        which will be 2... because the stop criteria above is 'len(array)>1'\n",
    "        \n",
    "        \"\"\"\n",
    "        lefthalf = arr[:mid]\n",
    "        righthalf = arr[mid:]\n",
    "        \n",
    "        merge_sort(lefthalf)\n",
    "        merge_sort(righthalf)\n",
    "        \n",
    "        \"\"\"\n",
    "        i tracker is for the lefthalf\n",
    "        j tracker is for righhalf\n",
    "        k tracker is going to be related to final array\n",
    "        \"\"\"\n",
    "        i,j,k = 0,0,0\n",
    "       \n",
    "        \"\"\"\n",
    "        these 3 loops below is performing the merging in the array\n",
    "        \"\"\"\n",
    "        while i < len(lefthalf) and j < len(righthalf):\n",
    "            \"\"\"\n",
    "            which value is greater ?  left or right ? \n",
    "            stores t in the result array.\n",
    "            \"\"\"\n",
    "            if lefthalf[i] < righthalf[i]:\n",
    "                arr[k] = lefthalf[i]                \n",
    "                i += 1\n",
    "            else:\n",
    "                arr[k] = righthalf[j]\n",
    "                j += 1\n",
    "            k +=1\n",
    "        \n",
    "        #print('========')\n",
    "        #print(arr)\n",
    "        while i < len(lefthalf):\n",
    "            arr[k] = lefthalf[i]\n",
    "            i += 1\n",
    "            k += 1\n",
    "        \n",
    "        while j < len(righthalf):\n",
    "            arr[k] = righthalf[j]\n",
    "            j += 1\n",
    "            k += 1\n",
    "        print('Merging : ===>',arr)\n",
    "            \n",
    "                "
   ]
  },
  {
   "cell_type": "code",
   "execution_count": 35,
   "metadata": {},
   "outputs": [],
   "source": [
    "i, j , k = 0,0,0"
   ]
  },
  {
   "cell_type": "code",
   "execution_count": 36,
   "metadata": {},
   "outputs": [
    {
     "name": "stdout",
     "output_type": "stream",
     "text": [
      "0\n"
     ]
    }
   ],
   "source": [
    "print (j)"
   ]
  },
  {
   "cell_type": "code",
   "execution_count": 39,
   "metadata": {},
   "outputs": [],
   "source": [
    "arr = [2,41,50,9,8,4,1,5,6,2,3,7]"
   ]
  },
  {
   "cell_type": "code",
   "execution_count": 40,
   "metadata": {},
   "outputs": [
    {
     "name": "stdout",
     "output_type": "stream",
     "text": [
      "Merging : ===> [41, 50]\n",
      "Merging : ===> [2, 41, 50]\n",
      "Merging : ===> [4, 8]\n",
      "Merging : ===> [4, 8, 9]\n",
      "Merging : ===> [2, 4, 8, 9, 41, 50]\n",
      "Merging : ===> [5, 6]\n",
      "Merging : ===> [1, 5, 6]\n",
      "Merging : ===> [3, 7]\n",
      "Merging : ===> [2, 3, 7]\n",
      "Merging : ===> [1, 2, 3, 7, 5, 6]\n",
      "Merging : ===> [1, 2, 3, 7, 5, 6, 2, 4, 8, 9, 41, 50]\n"
     ]
    }
   ],
   "source": [
    "merge_sort(arr)"
   ]
  },
  {
   "cell_type": "code",
   "execution_count": 41,
   "metadata": {},
   "outputs": [
    {
     "data": {
      "text/plain": [
       "[1, 2, 3, 7, 5, 6, 2, 4, 8, 9, 41, 50]"
      ]
     },
     "execution_count": 41,
     "metadata": {},
     "output_type": "execute_result"
    }
   ],
   "source": [
    "arr"
   ]
  },
  {
   "cell_type": "code",
   "execution_count": null,
   "metadata": {},
   "outputs": [],
   "source": []
  }
 ],
 "metadata": {
  "kernelspec": {
   "display_name": "Python 3",
   "language": "python",
   "name": "python3"
  },
  "language_info": {
   "codemirror_mode": {
    "name": "ipython",
    "version": 3
   },
   "file_extension": ".py",
   "mimetype": "text/x-python",
   "name": "python",
   "nbconvert_exporter": "python",
   "pygments_lexer": "ipython3",
   "version": "3.6.3"
  }
 },
 "nbformat": 4,
 "nbformat_minor": 2
}
