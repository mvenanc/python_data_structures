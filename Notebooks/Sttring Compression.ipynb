{
 "cells": [
  {
   "cell_type": "markdown",
   "metadata": {},
   "source": [
    "# String Compression"
   ]
  },
  {
   "cell_type": "markdown",
   "metadata": {},
   "source": [
    "> ### I created this code block below but there is necessary to transform return string. Iterate the dictionary\n"
   ]
  },
  {
   "cell_type": "code",
   "execution_count": 34,
   "metadata": {},
   "outputs": [],
   "source": [
    "def compress(str):\n",
    "    s = {}\n",
    "    for i in str:\n",
    "        try :\n",
    "            s[i] += 1\n",
    "        except :\n",
    "            s[i] = 1\n",
    "            \n",
    "        \n",
    "    print(''.join(s))\n",
    "    \n",
    "    \n",
    "    #print('--'.join(s.keys()))\n",
    "    #print('--'.join(s.items()))           "
   ]
  },
  {
   "cell_type": "code",
   "execution_count": 35,
   "metadata": {},
   "outputs": [
    {
     "name": "stdout",
     "output_type": "stream",
     "text": [
      "AaB\n"
     ]
    }
   ],
   "source": [
    "compress('AAAAAaaB')"
   ]
  },
  {
   "cell_type": "code",
   "execution_count": 48,
   "metadata": {},
   "outputs": [],
   "source": [
    "def compress2(s):\n",
    "    r = ''\n",
    "    l = len(s)\n",
    "    \n",
    "    if l == 0:\n",
    "        return ''\n",
    "    \n",
    "    if l ==1:\n",
    "        return s+'1'\n",
    "        \n",
    "    last = s[0]\n",
    "    cnt =1\n",
    "    i = 1\n",
    "    \n",
    "    \"\"\"\n",
    "    This alg. do the following.\n",
    "    \n",
    "    1 - we create a String to be the answer <r>\n",
    "    2 - now we iterate each char (iniating from the second char) from\n",
    "        the string checking if the char is equal its previous char.\n",
    "        2.1 if yes\n",
    "            cout += 1\n",
    "        2.2 if no\n",
    "            Concatenate the privous char and its count in the <r> string response\n",
    "            \n",
    "    3 - when getting out of the loop, the last letter should be added as well..\n",
    "        a new statement is necessary to add the last char and count of it.    \n",
    "    \"\"\"\n",
    "    \n",
    "    while i < l:\n",
    "        if s[i] == s[i-1]:\n",
    "            cnt +=1\n",
    "        else:\n",
    "            r += str(s[i-1])+str(cnt)\n",
    "            cnt = 1\n",
    "        i +=1\n",
    "    r += str(s[i-1])+str(cnt)\n",
    "    print(r)\n",
    "        "
   ]
  },
  {
   "cell_type": "code",
   "execution_count": 57,
   "metadata": {},
   "outputs": [
    {
     "name": "stdout",
     "output_type": "stream",
     "text": [
      "M1A2R3C4I5O6\n"
     ]
    }
   ],
   "source": [
    "compress2('MAARRRCCCCIIIIIOOOOOO')"
   ]
  },
  {
   "cell_type": "code",
   "execution_count": null,
   "metadata": {},
   "outputs": [],
   "source": []
  },
  {
   "cell_type": "code",
   "execution_count": null,
   "metadata": {},
   "outputs": [],
   "source": []
  }
 ],
 "metadata": {
  "kernelspec": {
   "display_name": "Python 3",
   "language": "python",
   "name": "python3"
  },
  "language_info": {
   "codemirror_mode": {
    "name": "ipython",
    "version": 3
   },
   "file_extension": ".py",
   "mimetype": "text/x-python",
   "name": "python",
   "nbconvert_exporter": "python",
   "pygments_lexer": "ipython3",
   "version": "3.6.3"
  }
 },
 "nbformat": 4,
 "nbformat_minor": 2
}
